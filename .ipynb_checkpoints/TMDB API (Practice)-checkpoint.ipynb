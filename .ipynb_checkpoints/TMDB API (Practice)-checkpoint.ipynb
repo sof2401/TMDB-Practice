{
 "cells": [
  {
   "cell_type": "code",
   "execution_count": 8,
   "id": "6624fcb0-6c30-49b8-b056-7cdc2c5f41e0",
   "metadata": {},
   "outputs": [],
   "source": [
    "import numpy as np\n",
    "import pandas as pd\n",
    "import matplotlib.pyplot as plt\n",
    "import seaborn as sns\n",
    "\n",
    "import os, json, math, time\n",
    "from yelpapi import YelpAPI\n",
    "from tqdm.notebook import tqdm"
   ]
  },
  {
   "cell_type": "code",
   "execution_count": 9,
   "id": "b4e3ecbd-c218-4936-8a81-383798ce61ac",
   "metadata": {},
   "outputs": [
    {
     "name": "stdout",
     "output_type": "stream",
     "text": [
      "Requirement already satisfied: tqdm in /opt/homebrew/Caskroom/miniforge/base/envs/dojo-env/lib/python3.10/site-packages (4.65.0)\n"
     ]
    }
   ],
   "source": [
    "!pip install tqdm"
   ]
  },
  {
   "cell_type": "code",
   "execution_count": 10,
   "id": "2d8e11db-07fe-4380-9867-f84f1d1d70d2",
   "metadata": {},
   "outputs": [
    {
     "data": {
      "application/vnd.jupyter.widget-view+json": {
       "model_id": "8797eed92b6148feb81e3e77b0e43746",
       "version_major": 2,
       "version_minor": 0
      },
      "text/plain": [
       "Processing Years:   0%|          | 0/1 [00:00<?, ?it/s]"
      ]
     },
     "metadata": {},
     "output_type": "display_data"
    }
   ],
   "source": [
    "years = [2010]\n",
    "\n",
    "for year in tqdm(years, desc=\"Processing Years\"):\n",
    "\n",
    "    json_filename = f'results_in_progress_{year}.json'\n",
    "\n",
    "    results = {\"year\": year, \"data\": \"your_data_here\"}\n",
    "    with open(json_filename, 'w') as json_file:\n",
    "        json.dump(results, json_file)"
   ]
  },
  {
   "cell_type": "code",
   "execution_count": 13,
   "id": "55aafa4b-e21a-4df3-bb16-13658df1b051",
   "metadata": {},
   "outputs": [],
   "source": [
    "new_imdb_ids = ['tt4567890', 'tt5678901']\n",
    "with open(json_filename, 'r') as json_file:\n",
    "    existing_data = json.load(json_file)"
   ]
  },
  {
   "cell_type": "code",
   "execution_count": null,
   "id": "9f415646-3634-42a8-bc17-d1a970b4a06a",
   "metadata": {},
   "outputs": [],
   "source": []
  }
 ],
 "metadata": {
  "kernelspec": {
   "display_name": "Python (dojo-env)",
   "language": "python",
   "name": "dojo-env"
  },
  "language_info": {
   "codemirror_mode": {
    "name": "ipython",
    "version": 3
   },
   "file_extension": ".py",
   "mimetype": "text/x-python",
   "name": "python",
   "nbconvert_exporter": "python",
   "pygments_lexer": "ipython3",
   "version": "3.10.10"
  },
  "widgets": {
   "application/vnd.jupyter.widget-state+json": {
    "state": {
     "0f15bbe7794d493dbd3a99d3320d2b08": {
      "model_module": "@jupyter-widgets/controls",
      "model_module_version": "2.0.0",
      "model_name": "FloatProgressModel",
      "state": {
       "bar_style": "success",
       "layout": "IPY_MODEL_a01be1c10e5c47088ff49d4cc5accc85",
       "max": 1,
       "style": "IPY_MODEL_9811c31bb1bc478db7335755638a0e70",
       "value": 1
      }
     },
     "42aaa6ca70d3472bab5042adc04c70d9": {
      "model_module": "@jupyter-widgets/controls",
      "model_module_version": "2.0.0",
      "model_name": "HTMLStyleModel",
      "state": {
       "description_width": "",
       "font_size": null,
       "text_color": null
      }
     },
     "7543e2b7764d4b639a92a98685fba375": {
      "model_module": "@jupyter-widgets/base",
      "model_module_version": "2.0.0",
      "model_name": "LayoutModel",
      "state": {}
     },
     "7720748575424cdc832f0280b51a084e": {
      "model_module": "@jupyter-widgets/controls",
      "model_module_version": "2.0.0",
      "model_name": "HTMLModel",
      "state": {
       "layout": "IPY_MODEL_d4f80d8f34c0492ca5595f8e3e297094",
       "style": "IPY_MODEL_42aaa6ca70d3472bab5042adc04c70d9",
       "value": "Processing Years: 100%"
      }
     },
     "8797eed92b6148feb81e3e77b0e43746": {
      "model_module": "@jupyter-widgets/controls",
      "model_module_version": "2.0.0",
      "model_name": "HBoxModel",
      "state": {
       "children": [
        "IPY_MODEL_7720748575424cdc832f0280b51a084e",
        "IPY_MODEL_0f15bbe7794d493dbd3a99d3320d2b08",
        "IPY_MODEL_ded2d2b44d5d4884a4bedc0f204d7477"
       ],
       "layout": "IPY_MODEL_f274b3ab211a42afb8ced49f104f3a8a"
      }
     },
     "9811c31bb1bc478db7335755638a0e70": {
      "model_module": "@jupyter-widgets/controls",
      "model_module_version": "2.0.0",
      "model_name": "ProgressStyleModel",
      "state": {
       "description_width": ""
      }
     },
     "a01be1c10e5c47088ff49d4cc5accc85": {
      "model_module": "@jupyter-widgets/base",
      "model_module_version": "2.0.0",
      "model_name": "LayoutModel",
      "state": {}
     },
     "d4f80d8f34c0492ca5595f8e3e297094": {
      "model_module": "@jupyter-widgets/base",
      "model_module_version": "2.0.0",
      "model_name": "LayoutModel",
      "state": {}
     },
     "dc50e9c681774e9eb40a8686a9b21e1b": {
      "model_module": "@jupyter-widgets/controls",
      "model_module_version": "2.0.0",
      "model_name": "HTMLStyleModel",
      "state": {
       "description_width": "",
       "font_size": null,
       "text_color": null
      }
     },
     "ded2d2b44d5d4884a4bedc0f204d7477": {
      "model_module": "@jupyter-widgets/controls",
      "model_module_version": "2.0.0",
      "model_name": "HTMLModel",
      "state": {
       "layout": "IPY_MODEL_7543e2b7764d4b639a92a98685fba375",
       "style": "IPY_MODEL_dc50e9c681774e9eb40a8686a9b21e1b",
       "value": " 1/1 [00:00&lt;00:00, 106.59it/s]"
      }
     },
     "f274b3ab211a42afb8ced49f104f3a8a": {
      "model_module": "@jupyter-widgets/base",
      "model_module_version": "2.0.0",
      "model_name": "LayoutModel",
      "state": {}
     }
    },
    "version_major": 2,
    "version_minor": 0
   }
  }
 },
 "nbformat": 4,
 "nbformat_minor": 5
}
