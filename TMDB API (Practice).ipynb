{
 "cells": [
  {
   "cell_type": "code",
   "execution_count": 18,
   "id": "6624fcb0-6c30-49b8-b056-7cdc2c5f41e0",
   "metadata": {},
   "outputs": [
    {
     "data": {
      "text/plain": [
       "['title.basics.tsv.gz', 'title.ratings.tsv.gz', '.ipynb_checkpoints']"
      ]
     },
     "execution_count": 18,
     "metadata": {},
     "output_type": "execute_result"
    }
   ],
   "source": [
    "# Import packages\n",
    "import os, time, json\n",
    "import tmdbsimple as tmdb \n",
    "import pandas as pd\n",
    "from tqdm.notebook import tqdm_notebook\n",
    "# Create the folder for saving files (if it doesn't exist)\n",
    "FOLDER = \"Data/\"\n",
    "os.makedirs(FOLDER, exist_ok=True)\n",
    "os.listdir(FOLDER)"
   ]
  },
  {
   "cell_type": "code",
   "execution_count": 20,
   "id": "b4e3ecbd-c218-4936-8a81-383798ce61ac",
   "metadata": {},
   "outputs": [],
   "source": [
    "def write_json(new_data, filename): \n",
    "    \"\"\"Appends a list of records (new_data) to a json file (filename). \n",
    "    Adapted from: https://www.geeksforgeeks.org/append-to-json-file-using-python/\"\"\"  \n",
    "    \n",
    "    with open(filename,'r+') as file:\n",
    "        # First we load existing data into a dict.\n",
    "        file_data = json.load(file)\n",
    "        ## Choose extend or append\n",
    "        if (type(new_data) == list) & (type(file_data) == list):\n",
    "            file_data.extend(new_data)\n",
    "        else:\n",
    "             file_data.append(new_data)\n",
    "        # Sets file's current position at offset.\n",
    "        file.seek(0)\n",
    "        # convert back to json.\n",
    "        json.dump(file_data, file)"
   ]
  },
  {
   "cell_type": "code",
   "execution_count": 21,
   "id": "5273828f-9393-4445-a29f-de18a31f7508",
   "metadata": {},
   "outputs": [
    {
     "data": {
      "text/html": [
       "<div>\n",
       "<style scoped>\n",
       "    .dataframe tbody tr th:only-of-type {\n",
       "        vertical-align: middle;\n",
       "    }\n",
       "\n",
       "    .dataframe tbody tr th {\n",
       "        vertical-align: top;\n",
       "    }\n",
       "\n",
       "    .dataframe thead th {\n",
       "        text-align: right;\n",
       "    }\n",
       "</style>\n",
       "<table border=\"1\" class=\"dataframe\">\n",
       "  <thead>\n",
       "    <tr style=\"text-align: right;\">\n",
       "      <th></th>\n",
       "      <th>tconst</th>\n",
       "      <th>titleType</th>\n",
       "      <th>primaryTitle</th>\n",
       "      <th>originalTitle</th>\n",
       "      <th>isAdult</th>\n",
       "      <th>startYear</th>\n",
       "      <th>endYear</th>\n",
       "      <th>runtimeMinutes</th>\n",
       "      <th>genres</th>\n",
       "    </tr>\n",
       "  </thead>\n",
       "  <tbody>\n",
       "    <tr>\n",
       "      <th>0</th>\n",
       "      <td>tt0000001</td>\n",
       "      <td>short</td>\n",
       "      <td>Carmencita</td>\n",
       "      <td>Carmencita</td>\n",
       "      <td>0</td>\n",
       "      <td>1894</td>\n",
       "      <td>\\N</td>\n",
       "      <td>1</td>\n",
       "      <td>Documentary,Short</td>\n",
       "    </tr>\n",
       "    <tr>\n",
       "      <th>1</th>\n",
       "      <td>tt0000002</td>\n",
       "      <td>short</td>\n",
       "      <td>Le clown et ses chiens</td>\n",
       "      <td>Le clown et ses chiens</td>\n",
       "      <td>0</td>\n",
       "      <td>1892</td>\n",
       "      <td>\\N</td>\n",
       "      <td>5</td>\n",
       "      <td>Animation,Short</td>\n",
       "    </tr>\n",
       "    <tr>\n",
       "      <th>2</th>\n",
       "      <td>tt0000003</td>\n",
       "      <td>short</td>\n",
       "      <td>Pauvre Pierrot</td>\n",
       "      <td>Pauvre Pierrot</td>\n",
       "      <td>0</td>\n",
       "      <td>1892</td>\n",
       "      <td>\\N</td>\n",
       "      <td>4</td>\n",
       "      <td>Animation,Comedy,Romance</td>\n",
       "    </tr>\n",
       "    <tr>\n",
       "      <th>3</th>\n",
       "      <td>tt0000004</td>\n",
       "      <td>short</td>\n",
       "      <td>Un bon bock</td>\n",
       "      <td>Un bon bock</td>\n",
       "      <td>0</td>\n",
       "      <td>1892</td>\n",
       "      <td>\\N</td>\n",
       "      <td>12</td>\n",
       "      <td>Animation,Short</td>\n",
       "    </tr>\n",
       "    <tr>\n",
       "      <th>4</th>\n",
       "      <td>tt0000005</td>\n",
       "      <td>short</td>\n",
       "      <td>Blacksmith Scene</td>\n",
       "      <td>Blacksmith Scene</td>\n",
       "      <td>0</td>\n",
       "      <td>1893</td>\n",
       "      <td>\\N</td>\n",
       "      <td>1</td>\n",
       "      <td>Comedy,Short</td>\n",
       "    </tr>\n",
       "    <tr>\n",
       "      <th>...</th>\n",
       "      <td>...</td>\n",
       "      <td>...</td>\n",
       "      <td>...</td>\n",
       "      <td>...</td>\n",
       "      <td>...</td>\n",
       "      <td>...</td>\n",
       "      <td>...</td>\n",
       "      <td>...</td>\n",
       "      <td>...</td>\n",
       "    </tr>\n",
       "    <tr>\n",
       "      <th>10017006</th>\n",
       "      <td>tt9916848</td>\n",
       "      <td>tvEpisode</td>\n",
       "      <td>Episode #3.17</td>\n",
       "      <td>Episode #3.17</td>\n",
       "      <td>0</td>\n",
       "      <td>2009</td>\n",
       "      <td>\\N</td>\n",
       "      <td>\\N</td>\n",
       "      <td>Action,Drama,Family</td>\n",
       "    </tr>\n",
       "    <tr>\n",
       "      <th>10017007</th>\n",
       "      <td>tt9916850</td>\n",
       "      <td>tvEpisode</td>\n",
       "      <td>Episode #3.19</td>\n",
       "      <td>Episode #3.19</td>\n",
       "      <td>0</td>\n",
       "      <td>2010</td>\n",
       "      <td>\\N</td>\n",
       "      <td>\\N</td>\n",
       "      <td>Action,Drama,Family</td>\n",
       "    </tr>\n",
       "    <tr>\n",
       "      <th>10017008</th>\n",
       "      <td>tt9916852</td>\n",
       "      <td>tvEpisode</td>\n",
       "      <td>Episode #3.20</td>\n",
       "      <td>Episode #3.20</td>\n",
       "      <td>0</td>\n",
       "      <td>2010</td>\n",
       "      <td>\\N</td>\n",
       "      <td>\\N</td>\n",
       "      <td>Action,Drama,Family</td>\n",
       "    </tr>\n",
       "    <tr>\n",
       "      <th>10017009</th>\n",
       "      <td>tt9916856</td>\n",
       "      <td>short</td>\n",
       "      <td>The Wind</td>\n",
       "      <td>The Wind</td>\n",
       "      <td>0</td>\n",
       "      <td>2015</td>\n",
       "      <td>\\N</td>\n",
       "      <td>27</td>\n",
       "      <td>Short</td>\n",
       "    </tr>\n",
       "    <tr>\n",
       "      <th>10017010</th>\n",
       "      <td>tt9916880</td>\n",
       "      <td>tvEpisode</td>\n",
       "      <td>Horrid Henry Knows It All</td>\n",
       "      <td>Horrid Henry Knows It All</td>\n",
       "      <td>0</td>\n",
       "      <td>2014</td>\n",
       "      <td>\\N</td>\n",
       "      <td>10</td>\n",
       "      <td>Adventure,Animation,Comedy</td>\n",
       "    </tr>\n",
       "  </tbody>\n",
       "</table>\n",
       "<p>10017011 rows × 9 columns</p>\n",
       "</div>"
      ],
      "text/plain": [
       "             tconst  titleType               primaryTitle  \\\n",
       "0         tt0000001      short                 Carmencita   \n",
       "1         tt0000002      short     Le clown et ses chiens   \n",
       "2         tt0000003      short             Pauvre Pierrot   \n",
       "3         tt0000004      short                Un bon bock   \n",
       "4         tt0000005      short           Blacksmith Scene   \n",
       "...             ...        ...                        ...   \n",
       "10017006  tt9916848  tvEpisode              Episode #3.17   \n",
       "10017007  tt9916850  tvEpisode              Episode #3.19   \n",
       "10017008  tt9916852  tvEpisode              Episode #3.20   \n",
       "10017009  tt9916856      short                   The Wind   \n",
       "10017010  tt9916880  tvEpisode  Horrid Henry Knows It All   \n",
       "\n",
       "                      originalTitle isAdult startYear endYear runtimeMinutes  \\\n",
       "0                        Carmencita       0      1894      \\N              1   \n",
       "1            Le clown et ses chiens       0      1892      \\N              5   \n",
       "2                    Pauvre Pierrot       0      1892      \\N              4   \n",
       "3                       Un bon bock       0      1892      \\N             12   \n",
       "4                  Blacksmith Scene       0      1893      \\N              1   \n",
       "...                             ...     ...       ...     ...            ...   \n",
       "10017006              Episode #3.17       0      2009      \\N             \\N   \n",
       "10017007              Episode #3.19       0      2010      \\N             \\N   \n",
       "10017008              Episode #3.20       0      2010      \\N             \\N   \n",
       "10017009                   The Wind       0      2015      \\N             27   \n",
       "10017010  Horrid Henry Knows It All       0      2014      \\N             10   \n",
       "\n",
       "                              genres  \n",
       "0                  Documentary,Short  \n",
       "1                    Animation,Short  \n",
       "2           Animation,Comedy,Romance  \n",
       "3                    Animation,Short  \n",
       "4                       Comedy,Short  \n",
       "...                              ...  \n",
       "10017006         Action,Drama,Family  \n",
       "10017007         Action,Drama,Family  \n",
       "10017008         Action,Drama,Family  \n",
       "10017009                       Short  \n",
       "10017010  Adventure,Animation,Comedy  \n",
       "\n",
       "[10017011 rows x 9 columns]"
      ]
     },
     "execution_count": 21,
     "metadata": {},
     "output_type": "execute_result"
    }
   ],
   "source": [
    "basics = pd.read_csv(\"Data/title.basics.tsv.gz\", sep='\\t', low_memory=False)\n",
    "basics"
   ]
  },
  {
   "cell_type": "code",
   "execution_count": 22,
   "id": "2d8e11db-07fe-4380-9867-f84f1d1d70d2",
   "metadata": {},
   "outputs": [],
   "source": [
    "YEAR = 2010"
   ]
  },
  {
   "cell_type": "code",
   "execution_count": 23,
   "id": "650b0725-7b41-4fb4-867d-78d0b01e136a",
   "metadata": {},
   "outputs": [],
   "source": [
    "errors = [ ]"
   ]
  },
  {
   "cell_type": "code",
   "execution_count": 24,
   "id": "1ff92cdc-f826-4d7d-aa24-7f446e485d49",
   "metadata": {},
   "outputs": [],
   "source": [
    "#Defining the JSON file to store results for year\n",
    "JSON_FILE = f'{FOLDER}tmdb_api_results_{YEAR}.json'"
   ]
  },
  {
   "cell_type": "code",
   "execution_count": 38,
   "id": "704fbb6a-439a-4b3a-9a3a-b7b47f2f78e1",
   "metadata": {},
   "outputs": [],
   "source": [
    "# Check if file exists\n",
    "file_exists = os.path.isfile(JSON_FILE)"
   ]
  },
  {
   "cell_type": "code",
   "execution_count": 27,
   "id": "b1fcb3f9-19cc-4ddc-b0f5-b6277ef9affc",
   "metadata": {},
   "outputs": [
    {
     "name": "stdout",
     "output_type": "stream",
     "text": [
      "Creating Data/tmdb_api_results_2010.json for API results for 2010.\n"
     ]
    }
   ],
   "source": [
    "# If it does not exist: create it\n",
    "if file_exists == False:\n",
    "    # Print a message indicating the file is being created \n",
    "    print(f\"Creating {JSON_FILE} for API results for {YEAR}.\")\n",
    "    # save an empty dict with just \"imdb_id\" to the new json file.\n",
    "    with open(JSON_FILE,'w') as f:\n",
    "        json.dump([{'imdb_id':0}],f)"
   ]
  },
  {
   "cell_type": "code",
   "execution_count": 28,
   "id": "979ef033-532e-4361-9c4c-52dc21e6d817",
   "metadata": {},
   "outputs": [],
   "source": [
    "#Saving new year as the current df\n",
    "df = basics.loc[ basics['startYear'] == YEAR].copy()\n",
    "# saving movie ids to separate variable\n",
    "movie_ids = df['tconst']"
   ]
  },
  {
   "cell_type": "code",
   "execution_count": 29,
   "id": "6dad42c6-8617-4ffb-9cca-e92709ce0eff",
   "metadata": {},
   "outputs": [],
   "source": [
    "# Load existing data from json into a dataframe called \"previous_df\"\n",
    "previous_df = pd.read_json(JSON_FILE)"
   ]
  },
  {
   "cell_type": "code",
   "execution_count": 30,
   "id": "e79584c6-2e35-43e9-8911-f66d608bd264",
   "metadata": {},
   "outputs": [],
   "source": [
    "# filter out any ids that are already in the JSON_FILE\n",
    "movie_ids_to_get = movie_ids[~movie_ids.isin(previous_df['imdb_id'])]"
   ]
  },
  {
   "cell_type": "code",
   "execution_count": 31,
   "id": "6ac15631-8b33-4dfc-a7b0-95ebdc524036",
   "metadata": {},
   "outputs": [
    {
     "data": {
      "application/vnd.jupyter.widget-view+json": {
       "model_id": "7a7cf7ed14104ccdb75f9bc490304759",
       "version_major": 2,
       "version_minor": 0
      },
      "text/plain": [
       "Movies from 2010: 0it [00:00, ?it/s]"
      ]
     },
     "metadata": {},
     "output_type": "display_data"
    }
   ],
   "source": [
    "# Loop through movie_ids_to_get with a tqdm progress bar\n",
    "for movie_id in tqdm_notebook(movie_ids_to_get, f\"Movies from {YEAR}\"): \n",
    "    new_imdb_ids = ['tt4567890', 'tt5678901']\n",
    "with open(JSON_FILE, 'r') as json_file:\n",
    "    existing_data = json.load(json_file)"
   ]
  },
  {
   "cell_type": "code",
   "execution_count": 33,
   "id": "9f415646-3634-42a8-bc17-d1a970b4a06a",
   "metadata": {},
   "outputs": [],
   "source": [
    "#Get index and movie id from list\n",
    "try:\n",
    "    # Retrieve then data for the movie id\n",
    "    temp = get_movie_with_rating(movie_ids)  \n",
    "    # Append/extend results to existing file using a pre-made function\n",
    "    write_json(temp,JSON_FILE)\n",
    "    # Short 20 ms sleep to prevent overwhelming server\n",
    "    time.sleep(0.02)\n",
    "    \n",
    "except Exception as e:\n",
    "    errors.append([movie_ids, e])"
   ]
  },
  {
   "cell_type": "code",
   "execution_count": 34,
   "id": "b1e12573-da6a-4aca-939d-f934186eafbc",
   "metadata": {},
   "outputs": [
    {
     "name": "stdout",
     "output_type": "stream",
     "text": [
      "- Total errors: 1\n"
     ]
    }
   ],
   "source": [
    "print(f\"- Total errors: {len(errors)}\")"
   ]
  },
  {
   "cell_type": "code",
   "execution_count": 36,
   "id": "a6a7bdc6-99ce-4fcc-8a3b-6f9cd158bcbc",
   "metadata": {},
   "outputs": [],
   "source": [
    "final_year_df = pd.read_json(JSON_FILE)\n",
    "final_year_df.to_csv(f\"{FOLDER}final_tmdb_data_{YEAR}.csv.gz\", compression=\"gzip\", index=False)"
   ]
  }
 ],
 "metadata": {
  "kernelspec": {
   "display_name": "Python (dojo-env)",
   "language": "python",
   "name": "dojo-env"
  },
  "language_info": {
   "codemirror_mode": {
    "name": "ipython",
    "version": 3
   },
   "file_extension": ".py",
   "mimetype": "text/x-python",
   "name": "python",
   "nbconvert_exporter": "python",
   "pygments_lexer": "ipython3",
   "version": "3.10.10"
  },
  "widgets": {
   "application/vnd.jupyter.widget-state+json": {
    "state": {
     "0f15bbe7794d493dbd3a99d3320d2b08": {
      "model_module": "@jupyter-widgets/controls",
      "model_module_version": "2.0.0",
      "model_name": "FloatProgressModel",
      "state": {
       "bar_style": "success",
       "layout": "IPY_MODEL_a01be1c10e5c47088ff49d4cc5accc85",
       "max": 1,
       "style": "IPY_MODEL_9811c31bb1bc478db7335755638a0e70",
       "value": 1
      }
     },
     "42aaa6ca70d3472bab5042adc04c70d9": {
      "model_module": "@jupyter-widgets/controls",
      "model_module_version": "2.0.0",
      "model_name": "HTMLStyleModel",
      "state": {
       "description_width": "",
       "font_size": null,
       "text_color": null
      }
     },
     "7543e2b7764d4b639a92a98685fba375": {
      "model_module": "@jupyter-widgets/base",
      "model_module_version": "2.0.0",
      "model_name": "LayoutModel",
      "state": {}
     },
     "7720748575424cdc832f0280b51a084e": {
      "model_module": "@jupyter-widgets/controls",
      "model_module_version": "2.0.0",
      "model_name": "HTMLModel",
      "state": {
       "layout": "IPY_MODEL_d4f80d8f34c0492ca5595f8e3e297094",
       "style": "IPY_MODEL_42aaa6ca70d3472bab5042adc04c70d9",
       "value": "Processing Years: 100%"
      }
     },
     "8797eed92b6148feb81e3e77b0e43746": {
      "model_module": "@jupyter-widgets/controls",
      "model_module_version": "2.0.0",
      "model_name": "HBoxModel",
      "state": {
       "children": [
        "IPY_MODEL_7720748575424cdc832f0280b51a084e",
        "IPY_MODEL_0f15bbe7794d493dbd3a99d3320d2b08",
        "IPY_MODEL_ded2d2b44d5d4884a4bedc0f204d7477"
       ],
       "layout": "IPY_MODEL_f274b3ab211a42afb8ced49f104f3a8a"
      }
     },
     "9811c31bb1bc478db7335755638a0e70": {
      "model_module": "@jupyter-widgets/controls",
      "model_module_version": "2.0.0",
      "model_name": "ProgressStyleModel",
      "state": {
       "description_width": ""
      }
     },
     "a01be1c10e5c47088ff49d4cc5accc85": {
      "model_module": "@jupyter-widgets/base",
      "model_module_version": "2.0.0",
      "model_name": "LayoutModel",
      "state": {}
     },
     "d4f80d8f34c0492ca5595f8e3e297094": {
      "model_module": "@jupyter-widgets/base",
      "model_module_version": "2.0.0",
      "model_name": "LayoutModel",
      "state": {}
     },
     "dc50e9c681774e9eb40a8686a9b21e1b": {
      "model_module": "@jupyter-widgets/controls",
      "model_module_version": "2.0.0",
      "model_name": "HTMLStyleModel",
      "state": {
       "description_width": "",
       "font_size": null,
       "text_color": null
      }
     },
     "ded2d2b44d5d4884a4bedc0f204d7477": {
      "model_module": "@jupyter-widgets/controls",
      "model_module_version": "2.0.0",
      "model_name": "HTMLModel",
      "state": {
       "layout": "IPY_MODEL_7543e2b7764d4b639a92a98685fba375",
       "style": "IPY_MODEL_dc50e9c681774e9eb40a8686a9b21e1b",
       "value": " 1/1 [00:00&lt;00:00, 106.59it/s]"
      }
     },
     "f274b3ab211a42afb8ced49f104f3a8a": {
      "model_module": "@jupyter-widgets/base",
      "model_module_version": "2.0.0",
      "model_name": "LayoutModel",
      "state": {}
     }
    },
    "version_major": 2,
    "version_minor": 0
   }
  }
 },
 "nbformat": 4,
 "nbformat_minor": 5
}
